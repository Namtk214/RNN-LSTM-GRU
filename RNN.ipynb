{
  "nbformat": 4,
  "nbformat_minor": 0,
  "metadata": {
    "colab": {
      "provenance": [],
      "authorship_tag": "ABX9TyMVB8pKHgjF1oMbQkfhEMfA",
      "include_colab_link": true
    },
    "kernelspec": {
      "name": "python3",
      "display_name": "Python 3"
    },
    "language_info": {
      "name": "python"
    }
  },
  "cells": [
    {
      "cell_type": "markdown",
      "metadata": {
        "id": "view-in-github",
        "colab_type": "text"
      },
      "source": [
        "<a href=\"https://colab.research.google.com/github/Namtk214/RNN-LSTM-GRU/blob/main/RNN.ipynb\" target=\"_parent\"><img src=\"https://colab.research.google.com/assets/colab-badge.svg\" alt=\"Open In Colab\"/></a>"
      ]
    },
    {
      "cell_type": "code",
      "source": [
        "!pip install unidecode"
      ],
      "metadata": {
        "colab": {
          "base_uri": "https://localhost:8080/"
        },
        "id": "WmZnqsxQ-ia3",
        "outputId": "02a69a74-c754-43b1-8847-d25c40b50dd7"
      },
      "execution_count": 15,
      "outputs": [
        {
          "output_type": "stream",
          "name": "stdout",
          "text": [
            "Requirement already satisfied: unidecode in /usr/local/lib/python3.11/dist-packages (1.3.8)\n"
          ]
        }
      ]
    },
    {
      "cell_type": "code",
      "execution_count": 16,
      "metadata": {
        "colab": {
          "base_uri": "https://localhost:8080/"
        },
        "id": "Pm355-i19Zme",
        "outputId": "08e1e0fc-f74a-4594-db17-ed70b1c79282"
      },
      "outputs": [
        {
          "output_type": "stream",
          "name": "stderr",
          "text": [
            "[nltk_data] Downloading package stopwords to /root/nltk_data...\n",
            "[nltk_data]   Package stopwords is already up-to-date!\n"
          ]
        }
      ],
      "source": [
        "import torch\n",
        "import torch.nn as nn\n",
        "\n",
        "seed = 1\n",
        "torch.manual_seed(seed)\n",
        "\n",
        "import os\n",
        "import numpy as np\n",
        "import pandas as pd\n",
        "import matplotlib.pyplot as plt\n",
        "import re\n",
        "import nltk\n",
        "import unidecode\n",
        "\n",
        "nltk.download('stopwords')\n",
        "from nltk.corpus import stopwords\n",
        "from nltk.stem.porter import PorterStemmer\n",
        "\n",
        "from torch.utils.data import Dataset, DataLoader\n",
        "from sklearn.model_selection import train_test_split\n",
        "from sklearn.preprocessing import LabelEncoder"
      ]
    },
    {
      "cell_type": "code",
      "source": [
        "!gdown 1uYXI4O3oWBA6QC8ZJ-r6yaTTfkdAnl_Q"
      ],
      "metadata": {
        "colab": {
          "base_uri": "https://localhost:8080/"
        },
        "id": "ubTw85Zr-m-A",
        "outputId": "65c8fb4b-f3c9-4acf-9789-de203f67aee9"
      },
      "execution_count": 17,
      "outputs": [
        {
          "output_type": "stream",
          "name": "stdout",
          "text": [
            "Downloading...\n",
            "From: https://drive.google.com/uc?id=1uYXI4O3oWBA6QC8ZJ-r6yaTTfkdAnl_Q\n",
            "To: /content/dataset.zip\n",
            "\r  0% 0.00/230k [00:00<?, ?B/s]\r100% 230k/230k [00:00<00:00, 79.2MB/s]\n"
          ]
        }
      ]
    },
    {
      "cell_type": "code",
      "source": [
        "!unzip /content/dataset.zip"
      ],
      "metadata": {
        "colab": {
          "base_uri": "https://localhost:8080/"
        },
        "id": "34PON3d9-wGO",
        "outputId": "66f690f5-01ce-48fc-8d8d-06d9ed22ed4f"
      },
      "execution_count": 18,
      "outputs": [
        {
          "output_type": "stream",
          "name": "stdout",
          "text": [
            "Archive:  /content/dataset.zip\n",
            "replace dataset/all-data.csv? [y]es, [n]o, [A]ll, [N]one, [r]ename: y\n",
            "  inflating: dataset/all-data.csv    \n"
          ]
        }
      ]
    },
    {
      "cell_type": "code",
      "source": [
        "dataset_path = 'dataset/all-data.csv'\n",
        "headers = ['sentiment', 'content']\n",
        "df = pd.read_csv(dataset_path, names=headers, encoding='ISO-8859-1')"
      ],
      "metadata": {
        "id": "trHzXM_k-3UD"
      },
      "execution_count": 19,
      "outputs": []
    },
    {
      "cell_type": "code",
      "source": [
        "classes = {\n",
        "    class_name: idx for idx, class_name in enumerate(df['sentiment'].unique().tolist())\n",
        "}\n",
        "df['sentiment'] = df['sentiment'].apply(lambda x: classes[x])"
      ],
      "metadata": {
        "id": "34T8eZH0_M9Z"
      },
      "execution_count": 20,
      "outputs": []
    },
    {
      "cell_type": "markdown",
      "source": [
        "PREPROCESSING\n"
      ],
      "metadata": {
        "id": "0VtGHPar_r6u"
      }
    },
    {
      "cell_type": "code",
      "source": [
        "english_stopwords = stopwords.words('english')\n",
        "stemmer = PorterStemmer()\n",
        "\n",
        "def text_normalize(text):\n",
        "    text = text.lower()\n",
        "    text = unidecode.unidecode(text)\n",
        "    text = text.strip()\n",
        "    text = re.sub(r'[^\\w\\s]', ' ', text)\n",
        "    text = ' '.join([word for word in text.split() if word not in english_stopwords])\n",
        "    text = ' '.join([stemmer.stem(word) for word in text.split()])\n",
        "    return text"
      ],
      "metadata": {
        "id": "25M-UPx3_n9r"
      },
      "execution_count": 21,
      "outputs": []
    },
    {
      "cell_type": "code",
      "source": [
        "df['content'] = df['content'].apply(lambda x: text_normalize(x))"
      ],
      "metadata": {
        "id": "h-oOAhKyATA8"
      },
      "execution_count": 22,
      "outputs": []
    },
    {
      "cell_type": "code",
      "source": [
        "vocab = []\n",
        "for sentences in df['content'].tolist():\n",
        "    tokens = sentences.split()\n",
        "    for token in tokens:\n",
        "        if token not in vocab:\n",
        "            vocab.append(token)\n",
        "\n",
        "vocab.append('<PAD>')\n",
        "vocab.append('<UNK>')\n",
        "word_to_idx = {word: idx for idx, word in enumerate(vocab)}\n",
        "vocab_size = len(vocab)"
      ],
      "metadata": {
        "id": "mJ1jrpYKoZY6"
      },
      "execution_count": 23,
      "outputs": []
    },
    {
      "cell_type": "code",
      "source": [
        "def transform(text, word_to_idx, max_seq_len):\n",
        "    tokens = []\n",
        "    for w in text.split():\n",
        "        try:\n",
        "            w_ids = word_to_idx[w]\n",
        "        except:\n",
        "            w_ids = word_to_idx['<UNK>']\n",
        "        tokens.append(w_ids)\n",
        "    if len(tokens) < max_seq_len:\n",
        "        tokens += [word_to_idx['<PAD>']] * (max_seq_len - len(tokens))\n",
        "    elif len(tokens) > max_seq_len:\n",
        "        tokens = tokens[:max_seq_len]\n",
        "    return tokens"
      ],
      "metadata": {
        "id": "J8VsDsCEo17d"
      },
      "execution_count": 24,
      "outputs": []
    },
    {
      "cell_type": "markdown",
      "source": [
        "DATASET PREPARING"
      ],
      "metadata": {
        "id": "XJzG84jHpWOX"
      }
    },
    {
      "cell_type": "code",
      "source": [
        "val_size = 0.2\n",
        "test_size = 0.125\n",
        "is_shuffle = True\n",
        "texts = df['content'].tolist()\n",
        "labels = df['sentiment'].tolist()\n",
        "\n",
        "X_train, X_val, y_train, y_val = train_test_split(texts, labels, test_size=val_size, shuffle=is_shuffle)\n",
        "X_val, X_test, y_val, y_test = train_test_split(X_val, y_val, test_size=test_size, shuffle=is_shuffle)"
      ],
      "metadata": {
        "id": "MMzHy9xgpTov"
      },
      "execution_count": 25,
      "outputs": []
    },
    {
      "cell_type": "code",
      "source": [
        "class FinancialNews(Dataset):\n",
        "    def __init__(self, X, y, word_to_idx, max_seq_len, transform=None):\n",
        "        self.texts = X\n",
        "        self.labels = y\n",
        "        self.word_to_idx = word_to_idx\n",
        "        self.max_seq_len = max_seq_len\n",
        "        self.transform = transform\n",
        "\n",
        "    def __len__(self):\n",
        "        return len(self.texts)\n",
        "\n",
        "    def __getitem__(self, idx):\n",
        "        text = self.texts[idx]\n",
        "        label = self.labels[idx]\n",
        "\n",
        "        if self.transform:\n",
        "            text = self.transform(text, self.word_to_idx, self.max_seq_len)\n",
        "        text = torch.tensor(text)\n",
        "        return text, label"
      ],
      "metadata": {
        "id": "sM_-r3-IpyAr"
      },
      "execution_count": 26,
      "outputs": []
    },
    {
      "cell_type": "code",
      "source": [
        "max_seq_len = 32\n",
        "\n",
        "train_dataset = FinancialNews(X_train, y_train, word_to_idx, max_seq_len, transform=transform)\n",
        "val_dataset = FinancialNews(X_val, y_val, word_to_idx, max_seq_len, transform=transform)\n",
        "test_dataset = FinancialNews(X_test, y_test, word_to_idx, max_seq_len, transform=transform)\n",
        "\n",
        "train_batch_size = 128\n",
        "test_batch_size = 8\n",
        "val_batch_size = 8\n",
        "\n",
        "train_dataloader = DataLoader(train_dataset, batch_size=train_batch_size, shuffle=True)\n",
        "val_dataloader = DataLoader(val_dataset, batch_size=val_batch_size, shuffle=False)\n",
        "test_dataloader = DataLoader(test_dataset, batch_size=test_batch_size, shuffle=False)"
      ],
      "metadata": {
        "id": "daQQ4ZvTqhtv"
      },
      "execution_count": 27,
      "outputs": []
    },
    {
      "cell_type": "markdown",
      "source": [
        "RNN Model"
      ],
      "metadata": {
        "id": "6mDuk52Cq6iQ"
      }
    },
    {
      "cell_type": "code",
      "source": [
        "class SentimentClassifier(nn.Module):\n",
        "    def __init__(self, vocab_size, embedding_dim, hidden_size, n_layers, n_classes, dropout_prob):\n",
        "        super(SentimentClassifier, self).__init__()\n",
        "        self.embedding = nn.Embedding(vocab_size, embedding_dim)\n",
        "        self.rnn = nn.RNN(embedding_dim, hidden_size, n_layers, batch_first=True, dropout=dropout_prob)\n",
        "        self.norm = nn.LayerNorm(hidden_size)\n",
        "        self.dropout = nn.Dropout(dropout_prob)\n",
        "        self.fc1 = nn.Linear(hidden_size, 16)\n",
        "        self.relu = nn.ReLU()\n",
        "        self.fc2 = nn.Linear(16, n_classes)\n",
        "\n",
        "    def forward(self, x):\n",
        "        x = self.embedding(x)\n",
        "        x, _ = self.rnn(x)\n",
        "        x = x[:, -1, :]\n",
        "        x = self.norm(x)\n",
        "        x = self.dropout(x)\n",
        "        x = self.fc1(x)\n",
        "        x = self.relu(x)\n",
        "        x = self.fc2(x)\n",
        "        return x"
      ],
      "metadata": {
        "id": "JA2kdaJpq8xT"
      },
      "execution_count": 28,
      "outputs": []
    },
    {
      "cell_type": "code",
      "source": [
        "n_classes = len(list(classes.keys()))\n",
        "embedding_dim = 128\n",
        "hidden_size = 64\n",
        "n_layers = 2\n",
        "dropout_prob = 0.2\n",
        "device = torch.device('cuda' if torch.cuda.is_available() else 'cpu')\n",
        "\n",
        "model = SentimentClassifier(vocab_size, embedding_dim, hidden_size, n_layers, n_classes, dropout_prob).to(device)\n",
        "\n"
      ],
      "metadata": {
        "id": "DSfOn0JfwLVR"
      },
      "execution_count": 29,
      "outputs": []
    },
    {
      "cell_type": "code",
      "source": [
        "lr = 1e-4\n",
        "epochs = 50\n",
        "\n",
        "criterion = nn.CrossEntropyLoss()\n",
        "optimizer = torch.optim.Adam(model.parameters(), lr=lr)\n"
      ],
      "metadata": {
        "id": "7EhSC-l3welf"
      },
      "execution_count": 31,
      "outputs": []
    },
    {
      "cell_type": "code",
      "source": [
        "def evaluate(model, val_loader, criterion, device):\n",
        "    model.eval()\n",
        "    correct = 0\n",
        "    total = 0\n",
        "    losses = []\n",
        "    with torch.no_grad():\n",
        "        for inputs, labels in val_loader:\n",
        "            inputs = inputs.to(device)\n",
        "            labels = labels.to(device)\n",
        "            outputs = model(inputs)\n",
        "            loss = criterion(outputs, labels)\n",
        "            losses.append(loss.item())\n",
        "            _, predicted = torch.max(outputs.data, 1)\n",
        "            total += labels.size(0)\n",
        "            correct += (predicted == labels).sum().item()\n",
        "    loss = np.mean(losses)\n",
        "    acc = correct / total\n",
        "    return loss, acc"
      ],
      "metadata": {
        "id": "88ABBKbDzxNw"
      },
      "execution_count": 32,
      "outputs": []
    },
    {
      "cell_type": "code",
      "source": [
        "def fit(model, train_loader, val_loader, epochs, criterion, optimizer, device):\n",
        "    train_losses = []\n",
        "    val_losses = []\n",
        "\n",
        "    for epoch in range(epochs):\n",
        "        batch_train_losses = []\n",
        "        model.train()\n",
        "        for idx, (inputs, labels) in enumerate(train_loader):\n",
        "            inputs = inputs.to(device)\n",
        "            labels = labels.to(device)\n",
        "            optimizer.zero_grad()\n",
        "            outputs = model(inputs)\n",
        "            loss = criterion(outputs, labels)\n",
        "            loss.backward()\n",
        "            optimizer.step()\n",
        "            batch_train_losses.append(loss.item())\n",
        "\n",
        "        train_loss = np.mean(batch_train_losses)\n",
        "        train_losses.append(train_loss)\n",
        "\n",
        "        val_loss, val_acc = evaluate(model, val_loader, criterion, device)\n",
        "        val_losses.append(val_loss)\n",
        "        print(f'Epoch: {epoch+1}/{epochs}, Train Loss: {train_loss:.4f}, Val Loss: {val_loss:.4f}, Val Acc: {val_acc:.4f}')\n",
        "\n",
        "    return train_losses, val_losses\n",
        "\n"
      ],
      "metadata": {
        "id": "c3Jitl_Owo55"
      },
      "execution_count": 35,
      "outputs": []
    },
    {
      "cell_type": "code",
      "source": [
        "train_losses, val_losses = fit(model, train_dataloader, val_dataloader, epochs, criterion, optimizer, device)"
      ],
      "metadata": {
        "colab": {
          "base_uri": "https://localhost:8080/"
        },
        "id": "3pFZNoKk0Vgs",
        "outputId": "2f22efca-8b9d-4ea0-d5ff-87f51cab54bb"
      },
      "execution_count": 36,
      "outputs": [
        {
          "output_type": "stream",
          "name": "stdout",
          "text": [
            "Epoch: 1/50, Train Loss: 0.9413, Val Loss: 0.8922, Val Acc: 0.6085\n",
            "Epoch: 2/50, Train Loss: 0.9377, Val Loss: 0.8931, Val Acc: 0.6073\n",
            "Epoch: 3/50, Train Loss: 0.9357, Val Loss: 0.8949, Val Acc: 0.6073\n",
            "Epoch: 4/50, Train Loss: 0.9353, Val Loss: 0.8944, Val Acc: 0.6085\n",
            "Epoch: 5/50, Train Loss: 0.9376, Val Loss: 0.8955, Val Acc: 0.6097\n",
            "Epoch: 6/50, Train Loss: 0.9318, Val Loss: 0.8940, Val Acc: 0.6097\n",
            "Epoch: 7/50, Train Loss: 0.9383, Val Loss: 0.8961, Val Acc: 0.6097\n",
            "Epoch: 8/50, Train Loss: 0.9366, Val Loss: 0.8937, Val Acc: 0.6097\n",
            "Epoch: 9/50, Train Loss: 0.9348, Val Loss: 0.8954, Val Acc: 0.6097\n",
            "Epoch: 10/50, Train Loss: 0.9360, Val Loss: 0.8936, Val Acc: 0.6097\n",
            "Epoch: 11/50, Train Loss: 0.9305, Val Loss: 0.8932, Val Acc: 0.6097\n",
            "Epoch: 12/50, Train Loss: 0.9372, Val Loss: 0.8944, Val Acc: 0.6097\n",
            "Epoch: 13/50, Train Loss: 0.9387, Val Loss: 0.8943, Val Acc: 0.6097\n",
            "Epoch: 14/50, Train Loss: 0.9368, Val Loss: 0.8946, Val Acc: 0.6108\n",
            "Epoch: 15/50, Train Loss: 0.9392, Val Loss: 0.8941, Val Acc: 0.6108\n",
            "Epoch: 16/50, Train Loss: 0.9318, Val Loss: 0.8946, Val Acc: 0.6108\n",
            "Epoch: 17/50, Train Loss: 0.9372, Val Loss: 0.8939, Val Acc: 0.6108\n",
            "Epoch: 18/50, Train Loss: 0.9335, Val Loss: 0.8950, Val Acc: 0.6108\n",
            "Epoch: 19/50, Train Loss: 0.9313, Val Loss: 0.8946, Val Acc: 0.6108\n",
            "Epoch: 20/50, Train Loss: 0.9299, Val Loss: 0.8946, Val Acc: 0.6108\n",
            "Epoch: 21/50, Train Loss: 0.9270, Val Loss: 0.8932, Val Acc: 0.6097\n",
            "Epoch: 22/50, Train Loss: 0.9306, Val Loss: 0.8931, Val Acc: 0.6097\n",
            "Epoch: 23/50, Train Loss: 0.9289, Val Loss: 0.8943, Val Acc: 0.6097\n",
            "Epoch: 24/50, Train Loss: 0.9363, Val Loss: 0.8938, Val Acc: 0.6097\n",
            "Epoch: 25/50, Train Loss: 0.9328, Val Loss: 0.8939, Val Acc: 0.6097\n",
            "Epoch: 26/50, Train Loss: 0.9299, Val Loss: 0.8940, Val Acc: 0.6085\n",
            "Epoch: 27/50, Train Loss: 0.9312, Val Loss: 0.8942, Val Acc: 0.6097\n",
            "Epoch: 28/50, Train Loss: 0.9323, Val Loss: 0.8933, Val Acc: 0.6097\n",
            "Epoch: 29/50, Train Loss: 0.9274, Val Loss: 0.8947, Val Acc: 0.6097\n",
            "Epoch: 30/50, Train Loss: 0.9322, Val Loss: 0.8936, Val Acc: 0.6085\n",
            "Epoch: 31/50, Train Loss: 0.9302, Val Loss: 0.8936, Val Acc: 0.6085\n",
            "Epoch: 32/50, Train Loss: 0.9280, Val Loss: 0.8944, Val Acc: 0.6085\n",
            "Epoch: 33/50, Train Loss: 0.9334, Val Loss: 0.8944, Val Acc: 0.6085\n",
            "Epoch: 34/50, Train Loss: 0.9296, Val Loss: 0.8930, Val Acc: 0.6097\n",
            "Epoch: 35/50, Train Loss: 0.9289, Val Loss: 0.8934, Val Acc: 0.6097\n",
            "Epoch: 36/50, Train Loss: 0.9249, Val Loss: 0.8936, Val Acc: 0.6097\n",
            "Epoch: 37/50, Train Loss: 0.9304, Val Loss: 0.8929, Val Acc: 0.6097\n",
            "Epoch: 38/50, Train Loss: 0.9304, Val Loss: 0.8936, Val Acc: 0.6097\n",
            "Epoch: 39/50, Train Loss: 0.9304, Val Loss: 0.8922, Val Acc: 0.6097\n",
            "Epoch: 40/50, Train Loss: 0.9235, Val Loss: 0.8929, Val Acc: 0.6097\n",
            "Epoch: 41/50, Train Loss: 0.9318, Val Loss: 0.8913, Val Acc: 0.6097\n",
            "Epoch: 42/50, Train Loss: 0.9266, Val Loss: 0.8926, Val Acc: 0.6097\n",
            "Epoch: 43/50, Train Loss: 0.9255, Val Loss: 0.8921, Val Acc: 0.6097\n",
            "Epoch: 44/50, Train Loss: 0.9249, Val Loss: 0.8927, Val Acc: 0.6097\n",
            "Epoch: 45/50, Train Loss: 0.9269, Val Loss: 0.8928, Val Acc: 0.6097\n",
            "Epoch: 46/50, Train Loss: 0.9295, Val Loss: 0.8932, Val Acc: 0.6097\n",
            "Epoch: 47/50, Train Loss: 0.9287, Val Loss: 0.8913, Val Acc: 0.6097\n",
            "Epoch: 48/50, Train Loss: 0.9291, Val Loss: 0.8922, Val Acc: 0.6108\n",
            "Epoch: 49/50, Train Loss: 0.9230, Val Loss: 0.8936, Val Acc: 0.6108\n",
            "Epoch: 50/50, Train Loss: 0.9269, Val Loss: 0.8925, Val Acc: 0.6108\n"
          ]
        }
      ]
    },
    {
      "cell_type": "code",
      "source": [
        "\n",
        "import matplotlib.pyplot as plt\n",
        "\n",
        "plt.plot(train_losses, label='Training Loss')\n",
        "plt.plot(val_losses, label='Validation Loss')\n",
        "plt.xlabel('Epoch')\n",
        "plt.ylabel('Loss')\n",
        "plt.title('Training and Validation Loss')\n",
        "plt.legend()\n",
        "plt.show()"
      ],
      "metadata": {
        "colab": {
          "base_uri": "https://localhost:8080/",
          "height": 472
        },
        "id": "tsXaY3t50zVH",
        "outputId": "70d63fc0-873b-465e-8971-c02e5fba655f"
      },
      "execution_count": 37,
      "outputs": [
        {
          "output_type": "display_data",
          "data": {
            "text/plain": [
              "<Figure size 640x480 with 1 Axes>"
            ],
            "image/png": "[encoded data removed]"
          },
          "metadata": {}
        }
      ]
    },
    {
      "cell_type": "code",
      "source": [
        "val_loss, val_acc = evaluate(model, val_dataloader, criterion, device)\n",
        "print(f'Validation Loss: {val_loss:.4f}, Validation Accuracy: {val_acc:.4f}')\n",
        "\n",
        "test_loss, test_acc = evaluate(model, test_dataloader, criterion, device)\n",
        "print(f'Test Loss: {test_loss:.4f}, Test Accuracy: {test_acc:.4f}')\n"
      ],
      "metadata": {
        "colab": {
          "base_uri": "https://localhost:8080/"
        },
        "id": "5YF4HP4U1G6Y",
        "outputId": "32e4aea6-41ce-4286-cb78-ea5164cedefc"
      },
      "execution_count": 38,
      "outputs": [
        {
          "output_type": "stream",
          "name": "stdout",
          "text": [
            "Validation Loss: 0.8925, Validation Accuracy: 0.6108\n",
            "Test Loss: 0.9423, Test Accuracy: 0.5574\n"
          ]
        }
      ]
    }
  ]
}